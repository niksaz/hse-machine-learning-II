{
 "cells": [
  {
   "cell_type": "code",
   "execution_count": 61,
   "metadata": {},
   "outputs": [],
   "source": [
    "import numpy as np\n",
    "from scipy import stats"
   ]
  },
  {
   "cell_type": "code",
   "execution_count": 62,
   "metadata": {},
   "outputs": [],
   "source": [
    "STAT_SIGNIFICANCE = 0.05"
   ]
  },
  {
   "cell_type": "code",
   "execution_count": 63,
   "metadata": {},
   "outputs": [],
   "source": [
    "def drop_element_if_not_linear(x, y):\n",
    "    N = x.size\n",
    "    xs = []\n",
    "    ys = []\n",
    "    for i in range(N):\n",
    "        xs.append(x[i]);\n",
    "        ys.append(y[i])\n",
    "        _, _, _, p_value, _ = stats.linregress(xs, ys)\n",
    "        if p_value > STAT_SIGNIFICANCE:\n",
    "            xs.pop()\n",
    "            ys.pop()\n",
    "    return np.array(xs), np.array(ys)"
   ]
  },
  {
   "cell_type": "code",
   "execution_count": 64,
   "metadata": {},
   "outputs": [],
   "source": [
    "STEP = 10\n",
    "\n",
    "def drop_corner_elements(x, y):\n",
    "    N = x.size\n",
    "    indexes = []\n",
    "    for i in range(N):\n",
    "        dst = (x[i] - y[i])**2\n",
    "        indexes.append((dst, i))\n",
    "    indexes = sorted(indexes, reverse=True)\n",
    "    # Try out different prefixes to drop to find the minumum\n",
    "    for prefix_length in range(STEP, N, STEP):\n",
    "        ids = indexes[:prefix_length]\n",
    "        ids = list(map(lambda pair: pair[1], ids))\n",
    "        xs = np.delete(x, ids)     \n",
    "        ys = np.delete(y, ids)\n",
    "        _, _, _, p_value, _ = stats.linregress(xs, ys)\n",
    "        if p_value <= STAT_SIGNIFICANCE:\n",
    "            return xs, ys\n",
    "    return None"
   ]
  },
  {
   "cell_type": "code",
   "execution_count": 65,
   "metadata": {},
   "outputs": [
    {
     "name": "stdout",
     "output_type": "stream",
     "text": [
      "Linear dependency: True\n",
      "Min data volume: 9840\n"
     ]
    }
   ],
   "source": [
    "checked = True\n",
    "iters = 100\n",
    "N = 10000\n",
    "min_size = N\n",
    "for j in range(iters):\n",
    "    n = N\n",
    "    x = np.random.uniform(size=n)\n",
    "    y = np.random.uniform(size=n)\n",
    "    x, y = drop_corner_elements(x, y)\n",
    "    min_size = min(min_size, x.size)\n",
    "    \n",
    "    slope, intercept, r_value, p_value, std_err = stats.linregress(x, y)\n",
    "    if p_value > STAT_SIGNIFICANCE:\n",
    "        checked = False\n",
    "        break\n",
    "\n",
    "print(\"Linear dependency:\", checked)\n",
    "print(\"Min data volume:\", min_size)"
   ]
  },
  {
   "cell_type": "code",
   "execution_count": null,
   "metadata": {},
   "outputs": [],
   "source": []
  }
 ],
 "metadata": {
  "kernelspec": {
   "display_name": "Python 3",
   "language": "python",
   "name": "python3"
  },
  "language_info": {
   "codemirror_mode": {
    "name": "ipython",
    "version": 3
   },
   "file_extension": ".py",
   "mimetype": "text/x-python",
   "name": "python",
   "nbconvert_exporter": "python",
   "pygments_lexer": "ipython3",
   "version": "3.6.4"
  }
 },
 "nbformat": 4,
 "nbformat_minor": 2
}
