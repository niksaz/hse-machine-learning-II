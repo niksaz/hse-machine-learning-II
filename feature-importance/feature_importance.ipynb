{
 "cells": [
  {
   "cell_type": "code",
   "execution_count": 81,
   "metadata": {},
   "outputs": [],
   "source": [
    "import numpy as np\n",
    "from sklearn.metrics import mean_squared_error, r2_score\n",
    "from sklearn.model_selection import train_test_split\n",
    "from xgboost import XGBRegressor\n",
    "from scipy.stats import wilcoxon"
   ]
  },
  {
   "cell_type": "code",
   "execution_count": 82,
   "metadata": {},
   "outputs": [],
   "source": [
    "def read_data(filename):\n",
    "    with open(filename, \"r\") as file:\n",
    "        lines = list(file)\n",
    "        x = np.zeros((len(lines), 51))\n",
    "        y = np.zeros((len(lines), 1))\n",
    "        for i in range(len(lines)):\n",
    "            split_row = lines[i].split('\\t')\n",
    "            y[i] = float(float(split_row[0]))\n",
    "            for j in range(1, len(split_row)):\n",
    "                x[i, j - 1] = float(split_row[j])\n",
    "        return x, y"
   ]
  },
  {
   "cell_type": "code",
   "execution_count": 27,
   "metadata": {},
   "outputs": [
    {
     "name": "stdout",
     "output_type": "stream",
     "text": [
      "(12465, 51) (12465, 1)\n",
      "(46596, 51) (46596, 1)\n"
     ]
    }
   ],
   "source": [
    "X_train, y_train = read_data(\"features.txt\")\n",
    "X_test, y_test = read_data(\"featuresTest.txt\")\n",
    "print(X_train.shape, y_train.shape)\n",
    "print(X_test.shape, y_test.shape)"
   ]
  },
  {
   "cell_type": "code",
   "execution_count": 65,
   "metadata": {},
   "outputs": [
    {
     "name": "stdout",
     "output_type": "stream",
     "text": [
      "[[2.57727e-01 2.15909e-02 1.71299e-01 1.00000e+00 1.00000e+00 1.00000e+00\n",
      "  1.00000e+00 1.00000e+00 0.00000e+00 0.00000e+00 0.00000e+00 0.00000e+00\n",
      "  0.00000e+00 0.00000e+00 4.31373e-01 9.35065e-01 2.08333e-02 7.08240e-02\n",
      "  1.00000e+00 0.00000e+00 3.13726e-01 1.00000e+00 1.00000e+00 0.00000e+00\n",
      "  9.37724e-01 0.00000e+00 1.00000e+00 0.00000e+00 0.00000e+00 0.00000e+00\n",
      "  0.00000e+00 5.66038e-02 0.00000e+00 0.00000e+00 1.00000e+00 7.39290e-01\n",
      "  1.00000e+00 5.05391e-04 8.85819e-01 1.72727e-04 0.00000e+00 0.00000e+00\n",
      "  0.00000e+00 0.00000e+00 0.00000e+00 0.00000e+00 1.53262e-01 5.78118e-01\n",
      "  2.22098e-01 1.00000e+00 4.37450e-01]\n",
      " [4.24438e-01 1.64384e-01 5.72649e-01 1.00000e+00 1.00000e+00 0.00000e+00\n",
      "  1.00000e+00 0.00000e+00 0.00000e+00 1.00000e+00 0.00000e+00 0.00000e+00\n",
      "  0.00000e+00 0.00000e+00 3.60784e-01 5.12195e-01 4.47049e-02 7.17587e-02\n",
      "  1.00000e+00 1.00000e+00 3.21569e-01 1.00000e+00 1.00000e+00 0.00000e+00\n",
      "  9.41214e-01 0.00000e+00 1.00000e+00 0.00000e+00 0.00000e+00 0.00000e+00\n",
      "  0.00000e+00 2.75362e-01 1.00000e+00 2.09302e-01 1.00000e+00 3.91239e-01\n",
      "  1.00000e+00 1.43194e-02 8.85819e-01 1.40996e-03 0.00000e+00 0.00000e+00\n",
      "  0.00000e+00 0.00000e+00 0.00000e+00 0.00000e+00 3.57143e-01 8.83721e-01\n",
      "  8.20312e-01 1.00000e+00 4.13220e-01]\n",
      " [3.45548e-01 2.48034e-01 8.53067e-02 1.00000e+00 1.00000e+00 0.00000e+00\n",
      "  1.00000e+00 0.00000e+00 0.00000e+00 1.00000e+00 0.00000e+00 0.00000e+00\n",
      "  0.00000e+00 0.00000e+00 6.00000e-01 5.00000e-01 1.14292e-01 7.13710e-02\n",
      "  1.00000e+00 0.00000e+00 3.96078e-01 1.00000e+00 1.00000e+00 0.00000e+00\n",
      "  9.39218e-01 0.00000e+00 1.00000e+00 0.00000e+00 0.00000e+00 0.00000e+00\n",
      "  0.00000e+00 3.84615e-02 0.00000e+00 0.00000e+00 1.00000e+00 0.00000e+00\n",
      "  0.00000e+00 0.00000e+00 8.85819e-01 2.24069e-03 0.00000e+00 0.00000e+00\n",
      "  0.00000e+00 0.00000e+00 0.00000e+00 0.00000e+00 5.88235e-01 4.44444e-01\n",
      "  6.08696e-01 1.00000e+00 2.65250e-01]\n",
      " [9.46305e-01 1.39752e-01 4.29885e-01 1.00000e+00 1.00000e+00 1.00000e+00\n",
      "  1.00000e+00 1.00000e+00 0.00000e+00 1.00000e+00 0.00000e+00 0.00000e+00\n",
      "  0.00000e+00 0.00000e+00 8.11765e-01 7.50000e-01 1.19755e-01 7.16360e-02\n",
      "  0.00000e+00 1.00000e+00 5.41176e-01 1.00000e+00 1.00000e+00 0.00000e+00\n",
      "  9.93828e-01 0.00000e+00 1.00000e+00 0.00000e+00 0.00000e+00 0.00000e+00\n",
      "  0.00000e+00 5.09804e-01 1.00000e+00 3.98000e-04 1.00000e+00 1.50000e+00\n",
      "  1.00000e+00 4.17659e-01 8.85819e-01 1.17792e-03 0.00000e+00 0.00000e+00\n",
      "  0.00000e+00 0.00000e+00 0.00000e+00 0.00000e+00 5.29620e-01 9.58103e-01\n",
      "  8.85843e-01 1.00000e+00 3.38910e-01]\n",
      " [1.96257e-01 2.60823e-02 2.73264e-01 1.00000e+00 1.00000e+00 1.00000e+00\n",
      "  1.00000e+00 1.00000e+00 0.00000e+00 0.00000e+00 0.00000e+00 0.00000e+00\n",
      "  0.00000e+00 0.00000e+00 0.00000e+00 9.20635e-01 3.10330e-02 7.12897e-02\n",
      "  0.00000e+00 1.00000e+00 3.76471e-01 1.00000e+00 1.00000e+00 0.00000e+00\n",
      "  4.30764e-01 0.00000e+00 1.00000e+00 0.00000e+00 0.00000e+00 0.00000e+00\n",
      "  0.00000e+00 1.93548e-01 1.00000e+00 2.22222e-01 1.00000e+00 2.03434e-01\n",
      "  1.00000e+00 2.86388e-03 8.85819e-01 2.08658e-04 0.00000e+00 0.00000e+00\n",
      "  0.00000e+00 0.00000e+00 0.00000e+00 0.00000e+00 5.02672e-01 8.42418e-01\n",
      "  6.00313e-01 1.00000e+00 2.66950e-01]]\n"
     ]
    }
   ],
   "source": [
    "print(X_train[:5])"
   ]
  },
  {
   "cell_type": "code",
   "execution_count": 66,
   "metadata": {},
   "outputs": [],
   "source": [
    "def create_model():\n",
    "    return XGBRegressor(\n",
    "        n_estimators=500, \n",
    "        learning_rate=0.02, \n",
    "        max_depth=5,\n",
    "        eta=1,\n",
    "        subsample=0.8,\n",
    "        reg_lambda=0,\n",
    "        reg_alpha=1,\n",
    "        n_jobs=4)\n",
    "\n",
    "\n",
    "def train_test_model(X_train, X_test, y_train, y_test, feature_to_drop=None):\n",
    "    \"\"\"Train the model and return RMSE on {X_test, y_test}.\"\"\"\n",
    "    if feature_to_drop is not None:\n",
    "        X_train = np.delete(X_train, [feature_to_drop], axis=1)\n",
    "        X_test = np.delete(X_test, [feature_to_drop], axis=1)\n",
    "    model = create_model()\n",
    "    model.fit(X_train, y_train)\n",
    "    predicted = model.predict(X_test)\n",
    "    return np.sqrt(mean_squared_error(y_test, predicted))"
   ]
  },
  {
   "cell_type": "code",
   "execution_count": 67,
   "metadata": {},
   "outputs": [
    {
     "name": "stdout",
     "output_type": "stream",
     "text": [
      "Base model\n",
      "\n",
      "RMSE:  0.07528854867017966\n"
     ]
    }
   ],
   "source": [
    "rmse = train_test_model(X_train, X_test, y_train, y_test)\n",
    "print('Base model')\n",
    "print('\\nRMSE: ', rmse)"
   ]
  },
  {
   "cell_type": "code",
   "execution_count": 75,
   "metadata": {},
   "outputs": [],
   "source": [
    "features = [1,16,36,50]  # feature indicies to explore"
   ]
  },
  {
   "cell_type": "code",
   "execution_count": 76,
   "metadata": {},
   "outputs": [
    {
     "name": "stdout",
     "output_type": "stream",
     "text": [
      "\n",
      "RMSE without feature 1: 0.07532142885524475\n",
      "\n",
      "RMSE without feature 16: 0.07535249274398034\n",
      "\n",
      "RMSE without feature 36: 0.07530117237606908\n",
      "\n",
      "RMSE without feature 50: 0.07527984128430162\n"
     ]
    }
   ],
   "source": [
    "for feature_ind in features:\n",
    "    rmse = train_test_model(X_train, X_test, y_train, y_test, feature_to_drop=feature_ind)\n",
    "    print('\\nRMSE without feature {}: {}'.format(feature_ind, rmse))"
   ]
  },
  {
   "cell_type": "code",
   "execution_count": 72,
   "metadata": {},
   "outputs": [
    {
     "name": "stdout",
     "output_type": "stream",
     "text": [
      "(12465, 51) (12465, 1)\n"
     ]
    }
   ],
   "source": [
    "X_all = X_train  # np.concatenate([X_test, X_train], axis=0)\n",
    "y_all = y_train  # np.concatenate([y_test, y_train], axis=0)\n",
    "\n",
    "print(X_all.shape, y_all.shape)"
   ]
  },
  {
   "cell_type": "code",
   "execution_count": 88,
   "metadata": {},
   "outputs": [],
   "source": [
    "SPLIT_COUNT = 10\n",
    "\n",
    "splits = []\n",
    "for _ in range(SPLIT_COUNT):\n",
    "    splits.append(train_test_split(X_all, y_all, test_size=0.5))"
   ]
  },
  {
   "cell_type": "code",
   "execution_count": 89,
   "metadata": {},
   "outputs": [
    {
     "name": "stdout",
     "output_type": "stream",
     "text": [
      "\n",
      "Feature 1\n",
      "RMSE mean with: 0.07662974838134605\n",
      "RMSE mean without: 0.07668008911312142\n",
      "p-value for hypothesis of having the same mean: {} 0.02841686417486375\n",
      "\n",
      "Feature 16\n",
      "RMSE mean with: 0.07662974838134605\n",
      "RMSE mean without: 0.07662815787030242\n",
      "p-value for hypothesis of having the same mean: {} 0.7212766990291557\n",
      "\n",
      "Feature 36\n",
      "RMSE mean with: 0.07662974838134605\n",
      "RMSE mean without: 0.07665913320630996\n",
      "p-value for hypothesis of having the same mean: {} 0.1688069535565081\n",
      "\n",
      "Feature 50\n",
      "RMSE mean with: 0.07662974838134605\n",
      "RMSE mean without: 0.0765399537097601\n",
      "p-value for hypothesis of having the same mean: {} 0.016604878103722735\n"
     ]
    }
   ],
   "source": [
    "rmses = []\n",
    "for split in splits:\n",
    "    X_all_train, X_all_test, y_all_train, y_all_test = split\n",
    "    rmse = train_test_model(X_all_train, X_all_test, y_all_train, y_all_test)\n",
    "    rmses.append(rmse)\n",
    "\n",
    "for feature_ind in features:\n",
    "    rmses_dropped = []\n",
    "    for split in splits:\n",
    "        X_all_train, X_all_test, y_all_train, y_all_test = split\n",
    "        rmse = train_test_model(X_all_train, X_all_test, y_all_train, y_all_test, feature_to_drop=feature_ind)\n",
    "        rmses_dropped.append(rmse)\n",
    "    \n",
    "    print('\\nFeature', feature_ind)\n",
    "    print('RMSE mean with:', sum(rmses) / SPLITS)\n",
    "    print('RMSE mean without:', sum(rmses_dropped) / SPLITS)\n",
    "    statistic, p_value = wilcoxon(rmses, rmses_dropped)\n",
    "    print('p-value for hypothesis of having the same mean: {}', p_value)"
   ]
  },
  {
   "cell_type": "code",
   "execution_count": null,
   "metadata": {},
   "outputs": [],
   "source": []
  }
 ],
 "metadata": {
  "kernelspec": {
   "display_name": "Python (tensorflow)",
   "language": "python",
   "name": "tensorflow"
  },
  "language_info": {
   "codemirror_mode": {
    "name": "ipython",
    "version": 3
   },
   "file_extension": ".py",
   "mimetype": "text/x-python",
   "name": "python",
   "nbconvert_exporter": "python",
   "pygments_lexer": "ipython3",
   "version": "3.6.6"
  }
 },
 "nbformat": 4,
 "nbformat_minor": 2
}
